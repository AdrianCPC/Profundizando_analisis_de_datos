{
  "cells": [
    {
      "cell_type": "markdown",
      "metadata": {
        "id": "view-in-github",
        "colab_type": "text"
      },
      "source": [
        "<a href=\"https://colab.research.google.com/github/AdrianCPC/Profundizando_analisis_de_datos/blob/main/Analisis_de_experimentos.ipynb\" target=\"_parent\"><img src=\"https://colab.research.google.com/assets/colab-badge.svg\" alt=\"Open In Colab\"/></a>"
      ]
    },
    {
      "cell_type": "markdown",
      "metadata": {
        "id": "TabbULndoNeV"
      },
      "source": [
        "<h1 style='color: blue; font-size: 34px; font-weight: bold;'> Análisis de experimentos\n",
        "</h1>\n"
      ]
    },
    {
      "cell_type": "markdown",
      "metadata": {
        "id": "dqMk7Es_oNeY"
      },
      "source": [
        "# <font color='red' style='font-size: 30px;'> Introducción al análisis de experimentos   </font>\n",
        "<hr style='border: 2px solid red;'>"
      ]
    },
    {
      "cell_type": "markdown",
      "metadata": {
        "id": "bMzKosK2oNeY"
      },
      "source": [
        "# <font color = 'purple'> Insertando el experimento en un Dataframe </font>\n",
        "\n",
        "\n",
        "<p style='margin: 30px 30px;'>\n",
        "    \n",
        "<hr style = 'border: 1px solid purple;'>"
      ]
    },
    {
      "cell_type": "markdown",
      "metadata": {
        "id": "s5HDFyikoNeY"
      },
      "source": [
        "## Importando las bibliotecas"
      ]
    },
    {
      "cell_type": "markdown",
      "metadata": {
        "id": "TLnE6iNGoNeY"
      },
      "source": [
        "### Pandas\n",
        "\n",
        "https://pandas.pydata.org/"
      ]
    },
    {
      "cell_type": "code",
      "execution_count": 1,
      "metadata": {
        "id": "NR8k_JFVoNeZ"
      },
      "outputs": [],
      "source": [
        "import pandas as pd"
      ]
    },
    {
      "cell_type": "markdown",
      "metadata": {
        "id": "nKPXDhLdoNeZ"
      },
      "source": [
        "### Numpy\n",
        "\n",
        "http://www.numpy.org/"
      ]
    },
    {
      "cell_type": "code",
      "execution_count": 2,
      "metadata": {
        "id": "KYQMlfCCoNeZ"
      },
      "outputs": [],
      "source": [
        "import numpy as np"
      ]
    },
    {
      "cell_type": "markdown",
      "metadata": {
        "id": "7INdxNr5oNeZ"
      },
      "source": [
        "<p style='font-size: 18px; line-height: 2; margin: 0px 0px; text-align: justify; text-indent: 0px;'>\n",
        "    <font color=\"red\"> <b>Pruebas realizadas en forma normalizada</b></font></p>\n",
        "\n",
        "\n",
        "\n",
        "\n",
        "\n"
      ]
    },
    {
      "cell_type": "markdown",
      "metadata": {
        "id": "wz0SgobAoNea"
      },
      "source": [
        "\n",
        "<p style='font-size: 18px; line-height: 2; margin: 0px 0px; text-align: justify; text-indent: 0px;'>\n",
        "<font color=\"MidnightBlue\"> Construyendo una matriz representando todas las pruebas realizadas:\n"
      ]
    },
    {
      "cell_type": "code",
      "execution_count": 3,
      "metadata": {
        "id": "d_kIi1VQoNea",
        "colab": {
          "base_uri": "https://localhost:8080/"
        },
        "outputId": "c511d272-995a-4118-ccc3-d976fca7a133"
      },
      "outputs": [
        {
          "output_type": "execute_result",
          "data": {
            "text/plain": [
              "array([[-1, -1],\n",
              "       [ 1, -1],\n",
              "       [-1,  1],\n",
              "       [ 1,  1]])"
            ]
          },
          "metadata": {},
          "execution_count": 3
        }
      ],
      "source": [
        "pruebas = np.array([[-1,-1],[1,-1],[-1,1],[1,1]])\n",
        "pruebas"
      ]
    },
    {
      "cell_type": "markdown",
      "metadata": {
        "id": "bhm7nSbVoNea"
      },
      "source": [
        "### pyDOE2\n",
        "\n",
        "https://pypi.org/project/pyDOE2/"
      ]
    },
    {
      "cell_type": "code",
      "execution_count": 5,
      "metadata": {
        "id": "P_qLGv4toNea"
      },
      "outputs": [],
      "source": [
        "#!pip install pyDOE2\n",
        "import pyDOE2 as doe #ayuda a generar matrices factoriales"
      ]
    },
    {
      "cell_type": "markdown",
      "metadata": {
        "id": "2PaO1sPUoNea"
      },
      "source": [
        "## Construyendo un diseño factorial de 2²\n"
      ]
    },
    {
      "cell_type": "code",
      "execution_count": 6,
      "metadata": {
        "id": "6LUipwy8oNea"
      },
      "outputs": [],
      "source": [
        "pruebas = doe.ff2n(2)"
      ]
    },
    {
      "cell_type": "code",
      "execution_count": 7,
      "metadata": {
        "id": "jPcHhr6yoNea",
        "colab": {
          "base_uri": "https://localhost:8080/"
        },
        "outputId": "c9193a5e-07d7-40c4-f969-01098e1fba9d"
      },
      "outputs": [
        {
          "output_type": "execute_result",
          "data": {
            "text/plain": [
              "array([[-1., -1.],\n",
              "       [ 1., -1.],\n",
              "       [-1.,  1.],\n",
              "       [ 1.,  1.]])"
            ]
          },
          "metadata": {},
          "execution_count": 7
        }
      ],
      "source": [
        "pruebas"
      ]
    },
    {
      "cell_type": "markdown",
      "metadata": {
        "id": "QuzCFE-EoNea"
      },
      "source": [
        "## Insertando el diseño en un Dataframe"
      ]
    },
    {
      "cell_type": "code",
      "execution_count": 8,
      "metadata": {
        "id": "GZ8eMuJ5oNeb"
      },
      "outputs": [],
      "source": [
        "experimento = pd.DataFrame(pruebas, columns=['Harina', 'Leche'])"
      ]
    },
    {
      "cell_type": "code",
      "execution_count": 9,
      "metadata": {
        "id": "2WJM60tdoNeb",
        "colab": {
          "base_uri": "https://localhost:8080/",
          "height": 175
        },
        "outputId": "19cc708d-73ac-415e-ad9f-21c770f30384"
      },
      "outputs": [
        {
          "output_type": "execute_result",
          "data": {
            "text/plain": [
              "   Harina  Leche\n",
              "0    -1.0   -1.0\n",
              "1     1.0   -1.0\n",
              "2    -1.0    1.0\n",
              "3     1.0    1.0"
            ],
            "text/html": [
              "\n",
              "  <div id=\"df-a11e52c8-ae47-4183-8b9f-ed2668995443\">\n",
              "    <div class=\"colab-df-container\">\n",
              "      <div>\n",
              "<style scoped>\n",
              "    .dataframe tbody tr th:only-of-type {\n",
              "        vertical-align: middle;\n",
              "    }\n",
              "\n",
              "    .dataframe tbody tr th {\n",
              "        vertical-align: top;\n",
              "    }\n",
              "\n",
              "    .dataframe thead th {\n",
              "        text-align: right;\n",
              "    }\n",
              "</style>\n",
              "<table border=\"1\" class=\"dataframe\">\n",
              "  <thead>\n",
              "    <tr style=\"text-align: right;\">\n",
              "      <th></th>\n",
              "      <th>Harina</th>\n",
              "      <th>Leche</th>\n",
              "    </tr>\n",
              "  </thead>\n",
              "  <tbody>\n",
              "    <tr>\n",
              "      <th>0</th>\n",
              "      <td>-1.0</td>\n",
              "      <td>-1.0</td>\n",
              "    </tr>\n",
              "    <tr>\n",
              "      <th>1</th>\n",
              "      <td>1.0</td>\n",
              "      <td>-1.0</td>\n",
              "    </tr>\n",
              "    <tr>\n",
              "      <th>2</th>\n",
              "      <td>-1.0</td>\n",
              "      <td>1.0</td>\n",
              "    </tr>\n",
              "    <tr>\n",
              "      <th>3</th>\n",
              "      <td>1.0</td>\n",
              "      <td>1.0</td>\n",
              "    </tr>\n",
              "  </tbody>\n",
              "</table>\n",
              "</div>\n",
              "      <button class=\"colab-df-convert\" onclick=\"convertToInteractive('df-a11e52c8-ae47-4183-8b9f-ed2668995443')\"\n",
              "              title=\"Convert this dataframe to an interactive table.\"\n",
              "              style=\"display:none;\">\n",
              "        \n",
              "  <svg xmlns=\"http://www.w3.org/2000/svg\" height=\"24px\"viewBox=\"0 0 24 24\"\n",
              "       width=\"24px\">\n",
              "    <path d=\"M0 0h24v24H0V0z\" fill=\"none\"/>\n",
              "    <path d=\"M18.56 5.44l.94 2.06.94-2.06 2.06-.94-2.06-.94-.94-2.06-.94 2.06-2.06.94zm-11 1L8.5 8.5l.94-2.06 2.06-.94-2.06-.94L8.5 2.5l-.94 2.06-2.06.94zm10 10l.94 2.06.94-2.06 2.06-.94-2.06-.94-.94-2.06-.94 2.06-2.06.94z\"/><path d=\"M17.41 7.96l-1.37-1.37c-.4-.4-.92-.59-1.43-.59-.52 0-1.04.2-1.43.59L10.3 9.45l-7.72 7.72c-.78.78-.78 2.05 0 2.83L4 21.41c.39.39.9.59 1.41.59.51 0 1.02-.2 1.41-.59l7.78-7.78 2.81-2.81c.8-.78.8-2.07 0-2.86zM5.41 20L4 18.59l7.72-7.72 1.47 1.35L5.41 20z\"/>\n",
              "  </svg>\n",
              "      </button>\n",
              "      \n",
              "  <style>\n",
              "    .colab-df-container {\n",
              "      display:flex;\n",
              "      flex-wrap:wrap;\n",
              "      gap: 12px;\n",
              "    }\n",
              "\n",
              "    .colab-df-convert {\n",
              "      background-color: #E8F0FE;\n",
              "      border: none;\n",
              "      border-radius: 50%;\n",
              "      cursor: pointer;\n",
              "      display: none;\n",
              "      fill: #1967D2;\n",
              "      height: 32px;\n",
              "      padding: 0 0 0 0;\n",
              "      width: 32px;\n",
              "    }\n",
              "\n",
              "    .colab-df-convert:hover {\n",
              "      background-color: #E2EBFA;\n",
              "      box-shadow: 0px 1px 2px rgba(60, 64, 67, 0.3), 0px 1px 3px 1px rgba(60, 64, 67, 0.15);\n",
              "      fill: #174EA6;\n",
              "    }\n",
              "\n",
              "    [theme=dark] .colab-df-convert {\n",
              "      background-color: #3B4455;\n",
              "      fill: #D2E3FC;\n",
              "    }\n",
              "\n",
              "    [theme=dark] .colab-df-convert:hover {\n",
              "      background-color: #434B5C;\n",
              "      box-shadow: 0px 1px 3px 1px rgba(0, 0, 0, 0.15);\n",
              "      filter: drop-shadow(0px 1px 2px rgba(0, 0, 0, 0.3));\n",
              "      fill: #FFFFFF;\n",
              "    }\n",
              "  </style>\n",
              "\n",
              "      <script>\n",
              "        const buttonEl =\n",
              "          document.querySelector('#df-a11e52c8-ae47-4183-8b9f-ed2668995443 button.colab-df-convert');\n",
              "        buttonEl.style.display =\n",
              "          google.colab.kernel.accessAllowed ? 'block' : 'none';\n",
              "\n",
              "        async function convertToInteractive(key) {\n",
              "          const element = document.querySelector('#df-a11e52c8-ae47-4183-8b9f-ed2668995443');\n",
              "          const dataTable =\n",
              "            await google.colab.kernel.invokeFunction('convertToInteractive',\n",
              "                                                     [key], {});\n",
              "          if (!dataTable) return;\n",
              "\n",
              "          const docLinkHtml = 'Like what you see? Visit the ' +\n",
              "            '<a target=\"_blank\" href=https://colab.research.google.com/notebooks/data_table.ipynb>data table notebook</a>'\n",
              "            + ' to learn more about interactive tables.';\n",
              "          element.innerHTML = '';\n",
              "          dataTable['output_type'] = 'display_data';\n",
              "          await google.colab.output.renderOutput(dataTable, element);\n",
              "          const docLink = document.createElement('div');\n",
              "          docLink.innerHTML = docLinkHtml;\n",
              "          element.appendChild(docLink);\n",
              "        }\n",
              "      </script>\n",
              "    </div>\n",
              "  </div>\n",
              "  "
            ]
          },
          "metadata": {},
          "execution_count": 9
        }
      ],
      "source": [
        "experimento"
      ]
    },
    {
      "cell_type": "markdown",
      "metadata": {
        "id": "Jfew6jmYoNeb"
      },
      "source": [
        "### Insertando la columna con los resultados"
      ]
    },
    {
      "cell_type": "code",
      "execution_count": 10,
      "metadata": {
        "id": "lF-5bsd-oNeb"
      },
      "outputs": [],
      "source": [
        "experimento['Cantidades'] = [19,37,24,49]"
      ]
    },
    {
      "cell_type": "code",
      "execution_count": 11,
      "metadata": {
        "id": "567zqGBToNeb",
        "colab": {
          "base_uri": "https://localhost:8080/",
          "height": 175
        },
        "outputId": "14b2d90c-347f-4079-841a-be99f1c80416"
      },
      "outputs": [
        {
          "output_type": "execute_result",
          "data": {
            "text/plain": [
              "   Harina  Leche  Cantidades\n",
              "0    -1.0   -1.0          19\n",
              "1     1.0   -1.0          37\n",
              "2    -1.0    1.0          24\n",
              "3     1.0    1.0          49"
            ],
            "text/html": [
              "\n",
              "  <div id=\"df-2c147abb-4cbc-42a2-9da2-18a656c5ed6c\">\n",
              "    <div class=\"colab-df-container\">\n",
              "      <div>\n",
              "<style scoped>\n",
              "    .dataframe tbody tr th:only-of-type {\n",
              "        vertical-align: middle;\n",
              "    }\n",
              "\n",
              "    .dataframe tbody tr th {\n",
              "        vertical-align: top;\n",
              "    }\n",
              "\n",
              "    .dataframe thead th {\n",
              "        text-align: right;\n",
              "    }\n",
              "</style>\n",
              "<table border=\"1\" class=\"dataframe\">\n",
              "  <thead>\n",
              "    <tr style=\"text-align: right;\">\n",
              "      <th></th>\n",
              "      <th>Harina</th>\n",
              "      <th>Leche</th>\n",
              "      <th>Cantidades</th>\n",
              "    </tr>\n",
              "  </thead>\n",
              "  <tbody>\n",
              "    <tr>\n",
              "      <th>0</th>\n",
              "      <td>-1.0</td>\n",
              "      <td>-1.0</td>\n",
              "      <td>19</td>\n",
              "    </tr>\n",
              "    <tr>\n",
              "      <th>1</th>\n",
              "      <td>1.0</td>\n",
              "      <td>-1.0</td>\n",
              "      <td>37</td>\n",
              "    </tr>\n",
              "    <tr>\n",
              "      <th>2</th>\n",
              "      <td>-1.0</td>\n",
              "      <td>1.0</td>\n",
              "      <td>24</td>\n",
              "    </tr>\n",
              "    <tr>\n",
              "      <th>3</th>\n",
              "      <td>1.0</td>\n",
              "      <td>1.0</td>\n",
              "      <td>49</td>\n",
              "    </tr>\n",
              "  </tbody>\n",
              "</table>\n",
              "</div>\n",
              "      <button class=\"colab-df-convert\" onclick=\"convertToInteractive('df-2c147abb-4cbc-42a2-9da2-18a656c5ed6c')\"\n",
              "              title=\"Convert this dataframe to an interactive table.\"\n",
              "              style=\"display:none;\">\n",
              "        \n",
              "  <svg xmlns=\"http://www.w3.org/2000/svg\" height=\"24px\"viewBox=\"0 0 24 24\"\n",
              "       width=\"24px\">\n",
              "    <path d=\"M0 0h24v24H0V0z\" fill=\"none\"/>\n",
              "    <path d=\"M18.56 5.44l.94 2.06.94-2.06 2.06-.94-2.06-.94-.94-2.06-.94 2.06-2.06.94zm-11 1L8.5 8.5l.94-2.06 2.06-.94-2.06-.94L8.5 2.5l-.94 2.06-2.06.94zm10 10l.94 2.06.94-2.06 2.06-.94-2.06-.94-.94-2.06-.94 2.06-2.06.94z\"/><path d=\"M17.41 7.96l-1.37-1.37c-.4-.4-.92-.59-1.43-.59-.52 0-1.04.2-1.43.59L10.3 9.45l-7.72 7.72c-.78.78-.78 2.05 0 2.83L4 21.41c.39.39.9.59 1.41.59.51 0 1.02-.2 1.41-.59l7.78-7.78 2.81-2.81c.8-.78.8-2.07 0-2.86zM5.41 20L4 18.59l7.72-7.72 1.47 1.35L5.41 20z\"/>\n",
              "  </svg>\n",
              "      </button>\n",
              "      \n",
              "  <style>\n",
              "    .colab-df-container {\n",
              "      display:flex;\n",
              "      flex-wrap:wrap;\n",
              "      gap: 12px;\n",
              "    }\n",
              "\n",
              "    .colab-df-convert {\n",
              "      background-color: #E8F0FE;\n",
              "      border: none;\n",
              "      border-radius: 50%;\n",
              "      cursor: pointer;\n",
              "      display: none;\n",
              "      fill: #1967D2;\n",
              "      height: 32px;\n",
              "      padding: 0 0 0 0;\n",
              "      width: 32px;\n",
              "    }\n",
              "\n",
              "    .colab-df-convert:hover {\n",
              "      background-color: #E2EBFA;\n",
              "      box-shadow: 0px 1px 2px rgba(60, 64, 67, 0.3), 0px 1px 3px 1px rgba(60, 64, 67, 0.15);\n",
              "      fill: #174EA6;\n",
              "    }\n",
              "\n",
              "    [theme=dark] .colab-df-convert {\n",
              "      background-color: #3B4455;\n",
              "      fill: #D2E3FC;\n",
              "    }\n",
              "\n",
              "    [theme=dark] .colab-df-convert:hover {\n",
              "      background-color: #434B5C;\n",
              "      box-shadow: 0px 1px 3px 1px rgba(0, 0, 0, 0.15);\n",
              "      filter: drop-shadow(0px 1px 2px rgba(0, 0, 0, 0.3));\n",
              "      fill: #FFFFFF;\n",
              "    }\n",
              "  </style>\n",
              "\n",
              "      <script>\n",
              "        const buttonEl =\n",
              "          document.querySelector('#df-2c147abb-4cbc-42a2-9da2-18a656c5ed6c button.colab-df-convert');\n",
              "        buttonEl.style.display =\n",
              "          google.colab.kernel.accessAllowed ? 'block' : 'none';\n",
              "\n",
              "        async function convertToInteractive(key) {\n",
              "          const element = document.querySelector('#df-2c147abb-4cbc-42a2-9da2-18a656c5ed6c');\n",
              "          const dataTable =\n",
              "            await google.colab.kernel.invokeFunction('convertToInteractive',\n",
              "                                                     [key], {});\n",
              "          if (!dataTable) return;\n",
              "\n",
              "          const docLinkHtml = 'Like what you see? Visit the ' +\n",
              "            '<a target=\"_blank\" href=https://colab.research.google.com/notebooks/data_table.ipynb>data table notebook</a>'\n",
              "            + ' to learn more about interactive tables.';\n",
              "          element.innerHTML = '';\n",
              "          dataTable['output_type'] = 'display_data';\n",
              "          await google.colab.output.renderOutput(dataTable, element);\n",
              "          const docLink = document.createElement('div');\n",
              "          docLink.innerHTML = docLinkHtml;\n",
              "          element.appendChild(docLink);\n",
              "        }\n",
              "      </script>\n",
              "    </div>\n",
              "  </div>\n",
              "  "
            ]
          },
          "metadata": {},
          "execution_count": 11
        }
      ],
      "source": [
        "experimento"
      ]
    },
    {
      "cell_type": "markdown",
      "metadata": {
        "id": "rqJyW12LoNeb"
      },
      "source": [
        "<hr>\n",
        "<p style='font-size: 18px; line-height: 2; margin: 0px 0px; text-align: justify; text-indent: 0px;'>\n",
        "    <font color=\"MidnightBlue\"> <b>Conclusión:</b> Finalmente tenemos nuestro experimento representado por un <i>Dataframe</i> de Pandas. Usaremos este <i>Dataframe</i> para comenzar el análisis de nuestro experimento.\n",
        "<hr>   "
      ]
    },
    {
      "cell_type": "markdown",
      "metadata": {
        "id": "S4gaSGMcoNeb"
      },
      "source": [
        "# <font color = 'purple'> Analizando gráficamente el experimento   </font>\n",
        "\n",
        "\n",
        "<p style='margin: 30px 30px;'>\n",
        "    \n",
        "<hr style = 'border: 1px solid purple;'>"
      ]
    },
    {
      "cell_type": "markdown",
      "metadata": {
        "id": "TpogskDUoNeb"
      },
      "source": [
        "###  Importando Seaborn\n",
        "\n",
        "https://seaborn.pydata.org"
      ]
    },
    {
      "cell_type": "code",
      "execution_count": 12,
      "metadata": {
        "id": "rIfGTgWpoNec"
      },
      "outputs": [],
      "source": [
        "import seaborn as sns"
      ]
    },
    {
      "cell_type": "code",
      "execution_count": 13,
      "metadata": {
        "id": "j0k6RHMsoNec"
      },
      "outputs": [],
      "source": [
        "# paletas -> Accent, Accent_r, Blues, Blues_r, BrBG, BrBG_r, BuGn, BuGn_r, BuPu, BuPu_r, CMRmap, CMRmap_r, Dark2, Dark2_r, GnBu, GnBu_r, Greens, Greens_r, Greys, Greys_r, OrRd, OrRd_r, Oranges, Oranges_r, PRGn, PRGn_r, Paired, Paired_r, Pastel1, Pastel1_r, Pastel2, Pastel2_r, PiYG, PiYG_r, PuBu, PuBuGn, PuBuGn_r, PuBu_r, PuOr, PuOr_r, PuRd, PuRd_r, Purples, Purples_r, RdBu, RdBu_r, RdGy, RdGy_r, RdPu, RdPu_r, RdYlBu, RdYlBu_r, RdYlGn, RdYlGn_r, Reds, Reds_r, Set1, Set1_r, Set2, Set2_r, Set3, Set3_r, Spectral, Spectral_r, Wistia, Wistia_r, YlGn, YlGnBu, YlGnBu_r, YlGn_r, YlOrBr, YlOrBr_r, YlOrRd, YlOrRd_r, afmhot, afmhot_r, autumn, autumn_r, binary, binary_r, bone, bone_r, brg, brg_r, bwr, bwr_r, cividis, cividis_r, cool, cool_r, coolwarm, coolwarm_r, copper, copper_r, cubehelix, cubehelix_r, flag, flag_r, gist_earth, gist_earth_r, gist_gray, gist_gray_r, gist_heat, gist_heat_r, gist_ncar, gist_ncar_r, gist_rainbow, gist_rainbow_r, gist_stern, gist_stern_r, gist_yarg, gist_yarg_r, gnuplot, gnuplot2, gnuplot2_r, gnuplot_r, gray, gray_r, hot, hot_r, hsv, hsv_r, icefire, icefire_r, inferno, inferno_r, jet, jet_r, magma, magma_r, mako, mako_r, nipy_spectral, nipy_spectral_r, ocean, ocean_r, pink, pink_r, plasma, plasma_r, prism, prism_r, rainbow, rainbow_r, rocket, rocket_r, seismic, seismic_r, spring, spring_r, summer, summer_r, tab10, tab10_r, tab20, tab20_r, tab20b, tab20b_r, tab20c, tab20c_r, terrain, terrain_r, viridis, viridis_r, vlag, vlag_r, winter, winter_r\n",
        "sns.set_palette('terrain')\n",
        "\n",
        "# estilo -> white, dark, whitegrid, darkgrid, ticks\n",
        "sns.set_style('darkgrid')"
      ]
    },
    {
      "cell_type": "markdown",
      "metadata": {
        "id": "K8lBIt5SoNec"
      },
      "source": [
        "### Para la Harina"
      ]
    },
    {
      "cell_type": "code",
      "execution_count": 16,
      "metadata": {
        "id": "LN-6Z3xfoNec",
        "colab": {
          "base_uri": "https://localhost:8080/",
          "height": 524
        },
        "outputId": "89b6a1a9-4d02-4f8d-b01e-331590606084"
      },
      "outputs": [
        {
          "output_type": "execute_result",
          "data": {
            "text/plain": [
              "<seaborn.axisgrid.FacetGrid at 0x7f521bf53b20>"
            ]
          },
          "metadata": {},
          "execution_count": 16
        },
        {
          "output_type": "display_data",
          "data": {
            "text/plain": [
              "<Figure size 576.875x500 with 1 Axes>"
            ],
            "image/png": "[encoded data removed]"
          },
          "metadata": {}
        }
      ],
      "source": [
        "axl = sns.lmplot(data=experimento, x='Harina', y='Cantidades', ci=None, hue='Leche');\n",
        "axl.set(xticks=(-1,1))"
      ]
    },
    {
      "cell_type": "markdown",
      "metadata": {
        "id": "GOhUN_AloNec"
      },
      "source": [
        "### Para la Leche"
      ]
    },
    {
      "cell_type": "code",
      "execution_count": 17,
      "metadata": {
        "id": "egTS4lvfoNec",
        "colab": {
          "base_uri": "https://localhost:8080/",
          "height": 524
        },
        "outputId": "2983dc6a-c021-4402-e5cc-f211f109b69f"
      },
      "outputs": [
        {
          "output_type": "execute_result",
          "data": {
            "text/plain": [
              "<seaborn.axisgrid.FacetGrid at 0x7f521bf4fcd0>"
            ]
          },
          "metadata": {},
          "execution_count": 17
        },
        {
          "output_type": "display_data",
          "data": {
            "text/plain": [
              "<Figure size 576.875x500 with 1 Axes>"
            ],
            "image/png": "[encoded data removed]"
          },
          "metadata": {}
        }
      ],
      "source": [
        "ax2 = sns.lmplot(data=experimento, x='Leche', y='Cantidades', ci=None, hue='Harina');\n",
        "ax2.set(xticks=(-1,1))"
      ]
    },
    {
      "cell_type": "markdown",
      "metadata": {
        "id": "OxZ31V9woNed"
      },
      "source": [
        "# <font color = 'purple'> Ajustando el modelo estadístico </font>\n",
        "\n",
        "\n",
        "<p style='margin: 30px 30px;'>\n",
        "    \n",
        "<hr style = 'border: 1px solid purple;'>"
      ]
    },
    {
      "cell_type": "markdown",
      "metadata": {
        "id": "o8AxdeWsoNed"
      },
      "source": [
        "### Bibliotecas  Stats Model\n"
      ]
    },
    {
      "cell_type": "code",
      "execution_count": 18,
      "metadata": {
        "id": "Wl5UQLKgoNed"
      },
      "outputs": [],
      "source": [
        "import statsmodels.api as sm\n",
        "import statsmodels.formula.api as smf"
      ]
    },
    {
      "cell_type": "markdown",
      "metadata": {
        "id": "Yng59OT0oNed"
      },
      "source": [
        "### ."
      ]
    },
    {
      "cell_type": "code",
      "execution_count": 19,
      "metadata": {
        "id": "-VZWdhoLoNed"
      },
      "outputs": [],
      "source": [
        "modelo = smf.ols(data=experimento, formula='Cantidades ~ Harina + Leche + Harina:Leche')"
      ]
    },
    {
      "cell_type": "code",
      "execution_count": 20,
      "metadata": {
        "id": "Iow2yyeKoNed"
      },
      "outputs": [],
      "source": [
        "modelo_adjustado = modelo.fit()"
      ]
    },
    {
      "cell_type": "code",
      "execution_count": 21,
      "metadata": {
        "id": "cUqup09aoNed",
        "colab": {
          "base_uri": "https://localhost:8080/"
        },
        "outputId": "dafd294a-2b2f-4095-c85f-a7c523990a8d"
      },
      "outputs": [
        {
          "output_type": "stream",
          "name": "stdout",
          "text": [
            "                            OLS Regression Results                            \n",
            "==============================================================================\n",
            "Dep. Variable:             Cantidades   R-squared:                       1.000\n",
            "Model:                            OLS   Adj. R-squared:                    nan\n",
            "Method:                 Least Squares   F-statistic:                       nan\n",
            "Date:                Sat, 08 Jul 2023   Prob (F-statistic):                nan\n",
            "Time:                        23:34:04   Log-Likelihood:                    inf\n",
            "No. Observations:                   4   AIC:                              -inf\n",
            "Df Residuals:                       0   BIC:                              -inf\n",
            "Df Model:                           3                                         \n",
            "Covariance Type:            nonrobust                                         \n",
            "================================================================================\n",
            "                   coef    std err          t      P>|t|      [0.025      0.975]\n",
            "--------------------------------------------------------------------------------\n",
            "Intercept       32.2500        nan        nan        nan         nan         nan\n",
            "Harina          10.7500        nan        nan        nan         nan         nan\n",
            "Leche            4.2500        nan        nan        nan         nan         nan\n",
            "Harina:Leche     1.7500        nan        nan        nan         nan         nan\n",
            "==============================================================================\n",
            "Omnibus:                          nan   Durbin-Watson:                     nan\n",
            "Prob(Omnibus):                    nan   Jarque-Bera (JB):                  nan\n",
            "Skew:                             nan   Prob(JB):                          nan\n",
            "Kurtosis:                         nan   Cond. No.                         1.00\n",
            "==============================================================================\n",
            "\n",
            "Notes:\n",
            "[1] Standard Errors assume that the covariance matrix of the errors is correctly specified.\n"
          ]
        },
        {
          "output_type": "stream",
          "name": "stderr",
          "text": [
            "/usr/local/lib/python3.10/dist-packages/statsmodels/stats/stattools.py:74: ValueWarning: omni_normtest is not valid with less than 8 observations; 4 samples were given.\n",
            "  warn(\"omni_normtest is not valid with less than 8 observations; %i \"\n",
            "/usr/local/lib/python3.10/dist-packages/statsmodels/stats/stattools.py:50: RuntimeWarning: invalid value encountered in double_scalars\n",
            "  dw = np.sum(diff_resids**2, axis=axis) / np.sum(resids**2, axis=axis)\n"
          ]
        }
      ],
      "source": [
        "print(modelo_adjustado.summary())"
      ]
    },
    {
      "cell_type": "markdown",
      "metadata": {
        "id": "05Jxbl9GoNed"
      },
      "source": [
        "# <font color = 'purple'> Aumentando los Grados de libertad  </font>\n",
        "\n",
        "\n",
        "<p style='margin: 30px 30px;'>\n",
        "    \n",
        "<hr style = 'border: 1px solid purple;'>\n",
        "\n",
        "\n",
        "\n",
        "<p style='margin: 30px 30px;'>     \n",
        "    \n"
      ]
    },
    {
      "cell_type": "markdown",
      "metadata": {
        "id": "lRyuz5_YoNed"
      },
      "source": [
        "<hr>\n",
        "\n",
        "\n",
        "<p style='font-size: 18px; line-height: 2; margin: 0px 0px; text-align: justify; text-indent: 0px;'>\n",
        "    <font color=\"red\"> <b>Réplicas en el centro</b>\n",
        "\n",
        "<p style='margin: 30px 30px;'>\n",
        "    \n",
        "    \n",
        "\n",
        "    \n",
        "\n",
        "    \n",
        "<hr>    "
      ]
    },
    {
      "cell_type": "code",
      "execution_count": 22,
      "metadata": {
        "id": "ihpp4apAoNee"
      },
      "outputs": [],
      "source": [
        "centro = np.array(\n",
        "    [\n",
        "        [0,0,29],\n",
        "        [0,0,30],\n",
        "        [0,0,29],\n",
        "        [0,0,30],\n",
        "    ]\n",
        ")"
      ]
    },
    {
      "cell_type": "code",
      "execution_count": 23,
      "metadata": {
        "id": "XqYh2f8LoNee"
      },
      "outputs": [],
      "source": [
        "centro_dataframe = pd.DataFrame(centro, columns = ['Harina', 'Leche', 'Cantidades'], index=[4,5,6,7])"
      ]
    },
    {
      "cell_type": "code",
      "execution_count": 24,
      "metadata": {
        "id": "6EZ6HpJNoNee",
        "colab": {
          "base_uri": "https://localhost:8080/",
          "height": 175
        },
        "outputId": "ff393db6-8cb6-4b71-be86-6632c4021682"
      },
      "outputs": [
        {
          "output_type": "execute_result",
          "data": {
            "text/plain": [
              "   Harina  Leche  Cantidades\n",
              "4       0      0          29\n",
              "5       0      0          30\n",
              "6       0      0          29\n",
              "7       0      0          30"
            ],
            "text/html": [
              "\n",
              "  <div id=\"df-2a9bf107-8785-4b79-81b2-243ca87fa45e\">\n",
              "    <div class=\"colab-df-container\">\n",
              "      <div>\n",
              "<style scoped>\n",
              "    .dataframe tbody tr th:only-of-type {\n",
              "        vertical-align: middle;\n",
              "    }\n",
              "\n",
              "    .dataframe tbody tr th {\n",
              "        vertical-align: top;\n",
              "    }\n",
              "\n",
              "    .dataframe thead th {\n",
              "        text-align: right;\n",
              "    }\n",
              "</style>\n",
              "<table border=\"1\" class=\"dataframe\">\n",
              "  <thead>\n",
              "    <tr style=\"text-align: right;\">\n",
              "      <th></th>\n",
              "      <th>Harina</th>\n",
              "      <th>Leche</th>\n",
              "      <th>Cantidades</th>\n",
              "    </tr>\n",
              "  </thead>\n",
              "  <tbody>\n",
              "    <tr>\n",
              "      <th>4</th>\n",
              "      <td>0</td>\n",
              "      <td>0</td>\n",
              "      <td>29</td>\n",
              "    </tr>\n",
              "    <tr>\n",
              "      <th>5</th>\n",
              "      <td>0</td>\n",
              "      <td>0</td>\n",
              "      <td>30</td>\n",
              "    </tr>\n",
              "    <tr>\n",
              "      <th>6</th>\n",
              "      <td>0</td>\n",
              "      <td>0</td>\n",
              "      <td>29</td>\n",
              "    </tr>\n",
              "    <tr>\n",
              "      <th>7</th>\n",
              "      <td>0</td>\n",
              "      <td>0</td>\n",
              "      <td>30</td>\n",
              "    </tr>\n",
              "  </tbody>\n",
              "</table>\n",
              "</div>\n",
              "      <button class=\"colab-df-convert\" onclick=\"convertToInteractive('df-2a9bf107-8785-4b79-81b2-243ca87fa45e')\"\n",
              "              title=\"Convert this dataframe to an interactive table.\"\n",
              "              style=\"display:none;\">\n",
              "        \n",
              "  <svg xmlns=\"http://www.w3.org/2000/svg\" height=\"24px\"viewBox=\"0 0 24 24\"\n",
              "       width=\"24px\">\n",
              "    <path d=\"M0 0h24v24H0V0z\" fill=\"none\"/>\n",
              "    <path d=\"M18.56 5.44l.94 2.06.94-2.06 2.06-.94-2.06-.94-.94-2.06-.94 2.06-2.06.94zm-11 1L8.5 8.5l.94-2.06 2.06-.94-2.06-.94L8.5 2.5l-.94 2.06-2.06.94zm10 10l.94 2.06.94-2.06 2.06-.94-2.06-.94-.94-2.06-.94 2.06-2.06.94z\"/><path d=\"M17.41 7.96l-1.37-1.37c-.4-.4-.92-.59-1.43-.59-.52 0-1.04.2-1.43.59L10.3 9.45l-7.72 7.72c-.78.78-.78 2.05 0 2.83L4 21.41c.39.39.9.59 1.41.59.51 0 1.02-.2 1.41-.59l7.78-7.78 2.81-2.81c.8-.78.8-2.07 0-2.86zM5.41 20L4 18.59l7.72-7.72 1.47 1.35L5.41 20z\"/>\n",
              "  </svg>\n",
              "      </button>\n",
              "      \n",
              "  <style>\n",
              "    .colab-df-container {\n",
              "      display:flex;\n",
              "      flex-wrap:wrap;\n",
              "      gap: 12px;\n",
              "    }\n",
              "\n",
              "    .colab-df-convert {\n",
              "      background-color: #E8F0FE;\n",
              "      border: none;\n",
              "      border-radius: 50%;\n",
              "      cursor: pointer;\n",
              "      display: none;\n",
              "      fill: #1967D2;\n",
              "      height: 32px;\n",
              "      padding: 0 0 0 0;\n",
              "      width: 32px;\n",
              "    }\n",
              "\n",
              "    .colab-df-convert:hover {\n",
              "      background-color: #E2EBFA;\n",
              "      box-shadow: 0px 1px 2px rgba(60, 64, 67, 0.3), 0px 1px 3px 1px rgba(60, 64, 67, 0.15);\n",
              "      fill: #174EA6;\n",
              "    }\n",
              "\n",
              "    [theme=dark] .colab-df-convert {\n",
              "      background-color: #3B4455;\n",
              "      fill: #D2E3FC;\n",
              "    }\n",
              "\n",
              "    [theme=dark] .colab-df-convert:hover {\n",
              "      background-color: #434B5C;\n",
              "      box-shadow: 0px 1px 3px 1px rgba(0, 0, 0, 0.15);\n",
              "      filter: drop-shadow(0px 1px 2px rgba(0, 0, 0, 0.3));\n",
              "      fill: #FFFFFF;\n",
              "    }\n",
              "  </style>\n",
              "\n",
              "      <script>\n",
              "        const buttonEl =\n",
              "          document.querySelector('#df-2a9bf107-8785-4b79-81b2-243ca87fa45e button.colab-df-convert');\n",
              "        buttonEl.style.display =\n",
              "          google.colab.kernel.accessAllowed ? 'block' : 'none';\n",
              "\n",
              "        async function convertToInteractive(key) {\n",
              "          const element = document.querySelector('#df-2a9bf107-8785-4b79-81b2-243ca87fa45e');\n",
              "          const dataTable =\n",
              "            await google.colab.kernel.invokeFunction('convertToInteractive',\n",
              "                                                     [key], {});\n",
              "          if (!dataTable) return;\n",
              "\n",
              "          const docLinkHtml = 'Like what you see? Visit the ' +\n",
              "            '<a target=\"_blank\" href=https://colab.research.google.com/notebooks/data_table.ipynb>data table notebook</a>'\n",
              "            + ' to learn more about interactive tables.';\n",
              "          element.innerHTML = '';\n",
              "          dataTable['output_type'] = 'display_data';\n",
              "          await google.colab.output.renderOutput(dataTable, element);\n",
              "          const docLink = document.createElement('div');\n",
              "          docLink.innerHTML = docLinkHtml;\n",
              "          element.appendChild(docLink);\n",
              "        }\n",
              "      </script>\n",
              "    </div>\n",
              "  </div>\n",
              "  "
            ]
          },
          "metadata": {},
          "execution_count": 24
        }
      ],
      "source": [
        "centro_dataframe"
      ]
    },
    {
      "cell_type": "markdown",
      "metadata": {
        "id": "0JzyKQgqoNee"
      },
      "source": [
        "### ."
      ]
    },
    {
      "cell_type": "code",
      "execution_count": 25,
      "metadata": {
        "id": "1whDx8W6oNee",
        "colab": {
          "base_uri": "https://localhost:8080/"
        },
        "outputId": "27c313a8-f166-476a-e0aa-2c224bd9c628"
      },
      "outputs": [
        {
          "output_type": "stream",
          "name": "stderr",
          "text": [
            "<ipython-input-25-f65c8f198031>:1: FutureWarning: The frame.append method is deprecated and will be removed from pandas in a future version. Use pandas.concat instead.\n",
            "  experimento = experimento.append(centro_dataframe)\n"
          ]
        }
      ],
      "source": [
        "experimento = experimento.append(centro_dataframe)"
      ]
    },
    {
      "cell_type": "code",
      "execution_count": 27,
      "metadata": {
        "id": "UrFziNISoNee",
        "colab": {
          "base_uri": "https://localhost:8080/",
          "height": 300
        },
        "outputId": "2ade36bb-5743-4314-fc99-d2892f1db12d"
      },
      "outputs": [
        {
          "output_type": "execute_result",
          "data": {
            "text/plain": [
              "   Harina  Leche  Cantidades\n",
              "0    -1.0   -1.0          19\n",
              "1     1.0   -1.0          37\n",
              "2    -1.0    1.0          24\n",
              "3     1.0    1.0          49\n",
              "4     0.0    0.0          29\n",
              "5     0.0    0.0          30\n",
              "6     0.0    0.0          29\n",
              "7     0.0    0.0          30"
            ],
            "text/html": [
              "\n",
              "  <div id=\"df-2ec9f0e0-f39a-4968-a260-64669e721973\">\n",
              "    <div class=\"colab-df-container\">\n",
              "      <div>\n",
              "<style scoped>\n",
              "    .dataframe tbody tr th:only-of-type {\n",
              "        vertical-align: middle;\n",
              "    }\n",
              "\n",
              "    .dataframe tbody tr th {\n",
              "        vertical-align: top;\n",
              "    }\n",
              "\n",
              "    .dataframe thead th {\n",
              "        text-align: right;\n",
              "    }\n",
              "</style>\n",
              "<table border=\"1\" class=\"dataframe\">\n",
              "  <thead>\n",
              "    <tr style=\"text-align: right;\">\n",
              "      <th></th>\n",
              "      <th>Harina</th>\n",
              "      <th>Leche</th>\n",
              "      <th>Cantidades</th>\n",
              "    </tr>\n",
              "  </thead>\n",
              "  <tbody>\n",
              "    <tr>\n",
              "      <th>0</th>\n",
              "      <td>-1.0</td>\n",
              "      <td>-1.0</td>\n",
              "      <td>19</td>\n",
              "    </tr>\n",
              "    <tr>\n",
              "      <th>1</th>\n",
              "      <td>1.0</td>\n",
              "      <td>-1.0</td>\n",
              "      <td>37</td>\n",
              "    </tr>\n",
              "    <tr>\n",
              "      <th>2</th>\n",
              "      <td>-1.0</td>\n",
              "      <td>1.0</td>\n",
              "      <td>24</td>\n",
              "    </tr>\n",
              "    <tr>\n",
              "      <th>3</th>\n",
              "      <td>1.0</td>\n",
              "      <td>1.0</td>\n",
              "      <td>49</td>\n",
              "    </tr>\n",
              "    <tr>\n",
              "      <th>4</th>\n",
              "      <td>0.0</td>\n",
              "      <td>0.0</td>\n",
              "      <td>29</td>\n",
              "    </tr>\n",
              "    <tr>\n",
              "      <th>5</th>\n",
              "      <td>0.0</td>\n",
              "      <td>0.0</td>\n",
              "      <td>30</td>\n",
              "    </tr>\n",
              "    <tr>\n",
              "      <th>6</th>\n",
              "      <td>0.0</td>\n",
              "      <td>0.0</td>\n",
              "      <td>29</td>\n",
              "    </tr>\n",
              "    <tr>\n",
              "      <th>7</th>\n",
              "      <td>0.0</td>\n",
              "      <td>0.0</td>\n",
              "      <td>30</td>\n",
              "    </tr>\n",
              "  </tbody>\n",
              "</table>\n",
              "</div>\n",
              "      <button class=\"colab-df-convert\" onclick=\"convertToInteractive('df-2ec9f0e0-f39a-4968-a260-64669e721973')\"\n",
              "              title=\"Convert this dataframe to an interactive table.\"\n",
              "              style=\"display:none;\">\n",
              "        \n",
              "  <svg xmlns=\"http://www.w3.org/2000/svg\" height=\"24px\"viewBox=\"0 0 24 24\"\n",
              "       width=\"24px\">\n",
              "    <path d=\"M0 0h24v24H0V0z\" fill=\"none\"/>\n",
              "    <path d=\"M18.56 5.44l.94 2.06.94-2.06 2.06-.94-2.06-.94-.94-2.06-.94 2.06-2.06.94zm-11 1L8.5 8.5l.94-2.06 2.06-.94-2.06-.94L8.5 2.5l-.94 2.06-2.06.94zm10 10l.94 2.06.94-2.06 2.06-.94-2.06-.94-.94-2.06-.94 2.06-2.06.94z\"/><path d=\"M17.41 7.96l-1.37-1.37c-.4-.4-.92-.59-1.43-.59-.52 0-1.04.2-1.43.59L10.3 9.45l-7.72 7.72c-.78.78-.78 2.05 0 2.83L4 21.41c.39.39.9.59 1.41.59.51 0 1.02-.2 1.41-.59l7.78-7.78 2.81-2.81c.8-.78.8-2.07 0-2.86zM5.41 20L4 18.59l7.72-7.72 1.47 1.35L5.41 20z\"/>\n",
              "  </svg>\n",
              "      </button>\n",
              "      \n",
              "  <style>\n",
              "    .colab-df-container {\n",
              "      display:flex;\n",
              "      flex-wrap:wrap;\n",
              "      gap: 12px;\n",
              "    }\n",
              "\n",
              "    .colab-df-convert {\n",
              "      background-color: #E8F0FE;\n",
              "      border: none;\n",
              "      border-radius: 50%;\n",
              "      cursor: pointer;\n",
              "      display: none;\n",
              "      fill: #1967D2;\n",
              "      height: 32px;\n",
              "      padding: 0 0 0 0;\n",
              "      width: 32px;\n",
              "    }\n",
              "\n",
              "    .colab-df-convert:hover {\n",
              "      background-color: #E2EBFA;\n",
              "      box-shadow: 0px 1px 2px rgba(60, 64, 67, 0.3), 0px 1px 3px 1px rgba(60, 64, 67, 0.15);\n",
              "      fill: #174EA6;\n",
              "    }\n",
              "\n",
              "    [theme=dark] .colab-df-convert {\n",
              "      background-color: #3B4455;\n",
              "      fill: #D2E3FC;\n",
              "    }\n",
              "\n",
              "    [theme=dark] .colab-df-convert:hover {\n",
              "      background-color: #434B5C;\n",
              "      box-shadow: 0px 1px 3px 1px rgba(0, 0, 0, 0.15);\n",
              "      filter: drop-shadow(0px 1px 2px rgba(0, 0, 0, 0.3));\n",
              "      fill: #FFFFFF;\n",
              "    }\n",
              "  </style>\n",
              "\n",
              "      <script>\n",
              "        const buttonEl =\n",
              "          document.querySelector('#df-2ec9f0e0-f39a-4968-a260-64669e721973 button.colab-df-convert');\n",
              "        buttonEl.style.display =\n",
              "          google.colab.kernel.accessAllowed ? 'block' : 'none';\n",
              "\n",
              "        async function convertToInteractive(key) {\n",
              "          const element = document.querySelector('#df-2ec9f0e0-f39a-4968-a260-64669e721973');\n",
              "          const dataTable =\n",
              "            await google.colab.kernel.invokeFunction('convertToInteractive',\n",
              "                                                     [key], {});\n",
              "          if (!dataTable) return;\n",
              "\n",
              "          const docLinkHtml = 'Like what you see? Visit the ' +\n",
              "            '<a target=\"_blank\" href=https://colab.research.google.com/notebooks/data_table.ipynb>data table notebook</a>'\n",
              "            + ' to learn more about interactive tables.';\n",
              "          element.innerHTML = '';\n",
              "          dataTable['output_type'] = 'display_data';\n",
              "          await google.colab.output.renderOutput(dataTable, element);\n",
              "          const docLink = document.createElement('div');\n",
              "          docLink.innerHTML = docLinkHtml;\n",
              "          element.appendChild(docLink);\n",
              "        }\n",
              "      </script>\n",
              "    </div>\n",
              "  </div>\n",
              "  "
            ]
          },
          "metadata": {},
          "execution_count": 27
        }
      ],
      "source": [
        "experimento"
      ]
    },
    {
      "cell_type": "markdown",
      "metadata": {
        "id": "-uWxcWM3oNee"
      },
      "source": [
        "# <font color = 'purple'>  Análisis de significancia estadística   </font>\n",
        "\n",
        "\n",
        "<p style='margin: 30px 30px;'>\n",
        "    \n",
        "<hr style = 'border: 1px solid purple;'>"
      ]
    },
    {
      "cell_type": "code",
      "execution_count": 28,
      "metadata": {
        "id": "m_zvbsxgoNee"
      },
      "outputs": [],
      "source": [
        "modelo = smf.ols(data=experimento, formula='Cantidades ~ Harina + Leche + Harina:Leche')"
      ]
    },
    {
      "cell_type": "code",
      "execution_count": 29,
      "metadata": {
        "id": "bOhMq60RoNee"
      },
      "outputs": [],
      "source": [
        "modelo_adjustado = modelo.fit()"
      ]
    },
    {
      "cell_type": "code",
      "execution_count": 30,
      "metadata": {
        "id": "HaFaew7_oNee",
        "colab": {
          "base_uri": "https://localhost:8080/"
        },
        "outputId": "59edef3c-f5c8-4941-b34a-41be8752fbb7"
      },
      "outputs": [
        {
          "output_type": "stream",
          "name": "stdout",
          "text": [
            "                            OLS Regression Results                            \n",
            "==============================================================================\n",
            "Dep. Variable:             Cantidades   R-squared:                       0.971\n",
            "Model:                            OLS   Adj. R-squared:                  0.950\n",
            "Method:                 Least Squares   F-statistic:                     45.21\n",
            "Date:                Sun, 09 Jul 2023   Prob (F-statistic):            0.00152\n",
            "Time:                        00:15:12   Log-Likelihood:                -14.155\n",
            "No. Observations:                   8   AIC:                             36.31\n",
            "Df Residuals:                       4   BIC:                             36.63\n",
            "Df Model:                           3                                         \n",
            "Covariance Type:            nonrobust                                         \n",
            "================================================================================\n",
            "                   coef    std err          t      P>|t|      [0.025      0.975]\n",
            "--------------------------------------------------------------------------------\n",
            "Intercept       30.8750      0.710     43.494      0.000      28.904      32.846\n",
            "Harina          10.7500      1.004     10.708      0.000       7.963      13.537\n",
            "Leche            4.2500      1.004      4.233      0.013       1.463       7.037\n",
            "Harina:Leche     1.7500      1.004      1.743      0.156      -1.037       4.537\n",
            "==============================================================================\n",
            "Omnibus:                        4.655   Durbin-Watson:                   0.841\n",
            "Prob(Omnibus):                  0.098   Jarque-Bera (JB):                1.080\n",
            "Skew:                          -0.180   Prob(JB):                        0.583\n",
            "Kurtosis:                       1.237   Cond. No.                         1.41\n",
            "==============================================================================\n",
            "\n",
            "Notes:\n",
            "[1] Standard Errors assume that the covariance matrix of the errors is correctly specified.\n"
          ]
        },
        {
          "output_type": "stream",
          "name": "stderr",
          "text": [
            "/usr/local/lib/python3.10/dist-packages/scipy/stats/_stats_py.py:1736: UserWarning: kurtosistest only valid for n>=20 ... continuing anyway, n=8\n",
            "  warnings.warn(\"kurtosistest only valid for n>=20 ... continuing \"\n"
          ]
        }
      ],
      "source": [
        "print(modelo_adjustado.summary())"
      ]
    },
    {
      "cell_type": "markdown",
      "metadata": {
        "id": "6ALO1thMoNef"
      },
      "source": [
        "\n",
        "# <font color = 'purple'> Prueba de significación estadística usando <b>t<b>    </font>\n",
        "\n",
        "\n",
        "<p style='margin: 30px 30px;'>\n",
        "    \n",
        "<hr style = 'border: 1px solid purple;'>\n",
        "\n",
        "\n",
        "\n"
      ]
    },
    {
      "cell_type": "code",
      "execution_count": 31,
      "metadata": {
        "id": "dhxxq0D0oNef"
      },
      "outputs": [],
      "source": [
        "t_valores = modelo_adjustado.tvalues"
      ]
    },
    {
      "cell_type": "code",
      "execution_count": 32,
      "metadata": {
        "id": "QtXnuYCMoNef",
        "colab": {
          "base_uri": "https://localhost:8080/"
        },
        "outputId": "731b161f-bcb5-49df-8a8f-4de6f77f0e5b"
      },
      "outputs": [
        {
          "output_type": "execute_result",
          "data": {
            "text/plain": [
              "Intercept       43.494275\n",
              "Harina          10.708252\n",
              "Leche            4.233495\n",
              "Harina:Leche     1.743204\n",
              "dtype: float64"
            ]
          },
          "metadata": {},
          "execution_count": 32
        }
      ],
      "source": [
        "t_valores"
      ]
    },
    {
      "cell_type": "code",
      "execution_count": 33,
      "metadata": {
        "id": "cGQJz2smoNef"
      },
      "outputs": [],
      "source": [
        "nombre = t_valores.index.tolist()"
      ]
    },
    {
      "cell_type": "code",
      "execution_count": 34,
      "metadata": {
        "id": "Fm-Hzl5GoNef",
        "colab": {
          "base_uri": "https://localhost:8080/"
        },
        "outputId": "e5f91b1d-2851-45e2-be9c-4249da19bd30"
      },
      "outputs": [
        {
          "output_type": "execute_result",
          "data": {
            "text/plain": [
              "['Intercept', 'Harina', 'Leche', 'Harina:Leche']"
            ]
          },
          "metadata": {},
          "execution_count": 34
        }
      ],
      "source": [
        "nombre"
      ]
    },
    {
      "cell_type": "markdown",
      "metadata": {
        "id": "yqZVOCqJoNef"
      },
      "source": [
        "### ."
      ]
    },
    {
      "cell_type": "code",
      "source": [
        "from scipy import stats"
      ],
      "metadata": {
        "id": "_DKSYpzeFbLX"
      },
      "execution_count": 36,
      "outputs": []
    },
    {
      "cell_type": "code",
      "source": [
        "distribucion = stats.t(df = 4)"
      ],
      "metadata": {
        "id": "nlh15uu5Fl_1"
      },
      "execution_count": 37,
      "outputs": []
    },
    {
      "cell_type": "code",
      "source": [
        "distribucion.ppf(q=1 - 0.025)"
      ],
      "metadata": {
        "colab": {
          "base_uri": "https://localhost:8080/"
        },
        "id": "__rSbAEEFwro",
        "outputId": "f624779f-3a4c-4a9b-9a0d-911c212068c5"
      },
      "execution_count": 42,
      "outputs": [
        {
          "output_type": "execute_result",
          "data": {
            "text/plain": [
              "2.7764451051977987"
            ]
          },
          "metadata": {},
          "execution_count": 42
        }
      ]
    },
    {
      "cell_type": "code",
      "source": [
        "limite = [distribucion.ppf(q=1 - 0.025)]*len(nombre)"
      ],
      "metadata": {
        "id": "d4o5fh3cGARF"
      },
      "execution_count": 45,
      "outputs": []
    },
    {
      "cell_type": "code",
      "source": [
        "limite"
      ],
      "metadata": {
        "colab": {
          "base_uri": "https://localhost:8080/"
        },
        "id": "x8plXFYZGLto",
        "outputId": "8c90da9b-c4f1-490d-eae2-5cd5ac8d4839"
      },
      "execution_count": 46,
      "outputs": [
        {
          "output_type": "execute_result",
          "data": {
            "text/plain": [
              "[2.7764451051977987,\n",
              " 2.7764451051977987,\n",
              " 2.7764451051977987,\n",
              " 2.7764451051977987]"
            ]
          },
          "metadata": {},
          "execution_count": 46
        }
      ]
    },
    {
      "cell_type": "markdown",
      "metadata": {
        "id": "AMS_nRnZoNef"
      },
      "source": [
        "### .\n"
      ]
    },
    {
      "cell_type": "code",
      "execution_count": 47,
      "metadata": {
        "id": "efIaxe8aoNef",
        "colab": {
          "base_uri": "https://localhost:8080/",
          "height": 572
        },
        "outputId": "e404c7c4-6aab-4bfc-c26b-4bb525a5ee99"
      },
      "outputs": [
        {
          "output_type": "execute_result",
          "data": {
            "text/plain": [
              "[<matplotlib.lines.Line2D at 0x7f5213b19f30>]"
            ]
          },
          "metadata": {},
          "execution_count": 47
        },
        {
          "output_type": "display_data",
          "data": {
            "text/plain": [
              "<Figure size 1500x600 with 1 Axes>"
            ],
            "image/png": "[encoded data removed]"
          },
          "metadata": {}
        }
      ],
      "source": [
        "pareto = sns.barplot(x=t_valores, y=nombre)\n",
        "pareto.figure.set_size_inches(15,6)\n",
        "pareto.tick_params(labelsize=20)\n",
        "pareto.set_xlabel('t_valores', fontsize=20)\n",
        "pareto.plot(limite, nombre, 'r')"
      ]
    },
    {
      "cell_type": "code",
      "execution_count": null,
      "metadata": {
        "id": "g6CInlr1oNef"
      },
      "outputs": [],
      "source": []
    },
    {
      "cell_type": "code",
      "execution_count": null,
      "metadata": {
        "id": "nRE58gT3oNef"
      },
      "outputs": [],
      "source": []
    },
    {
      "cell_type": "code",
      "execution_count": null,
      "metadata": {
        "id": "_AMwJpwZoNeg"
      },
      "outputs": [],
      "source": []
    },
    {
      "cell_type": "code",
      "execution_count": null,
      "metadata": {
        "id": "-Mnpmz5WoNeg"
      },
      "outputs": [],
      "source": []
    },
    {
      "cell_type": "markdown",
      "metadata": {
        "id": "7s8hToKkoNeg"
      },
      "source": [
        "### Plotando el gráfico"
      ]
    },
    {
      "cell_type": "code",
      "execution_count": null,
      "metadata": {
        "id": "7FBthL0aoNeg"
      },
      "outputs": [],
      "source": []
    },
    {
      "cell_type": "markdown",
      "metadata": {
        "id": "FVJtdCNAoNeg"
      },
      "source": [
        "# <font color = 'purple'> Proponiendo un nuevo modelo   </font>\n",
        "\n",
        "\n",
        "<p style='margin: 30px 30px;'>\n",
        "    \n",
        "<hr style = 'border: 1px solid purple;'>\n"
      ]
    },
    {
      "cell_type": "code",
      "execution_count": 48,
      "metadata": {
        "id": "RzE1VPIUoNeg"
      },
      "outputs": [],
      "source": [
        "modelo_2 = smf.ols(data=experimento, formula='Cantidades ~ Harina + Leche')"
      ]
    },
    {
      "cell_type": "code",
      "execution_count": 49,
      "metadata": {
        "id": "LZk3J0tCoNeg"
      },
      "outputs": [],
      "source": [
        "modelo_adjustado_2 = modelo_2.fit()"
      ]
    },
    {
      "cell_type": "code",
      "execution_count": 50,
      "metadata": {
        "id": "4BBhZfcaoNeg",
        "colab": {
          "base_uri": "https://localhost:8080/"
        },
        "outputId": "5bd6aeb8-58c4-4cce-ac2f-94b3d8ef92a4"
      },
      "outputs": [
        {
          "output_type": "stream",
          "name": "stdout",
          "text": [
            "                            OLS Regression Results                            \n",
            "==============================================================================\n",
            "Dep. Variable:             Cantidades   R-squared:                       0.950\n",
            "Model:                            OLS   Adj. R-squared:                  0.929\n",
            "Method:                 Least Squares   F-statistic:                     47.09\n",
            "Date:                Sun, 09 Jul 2023   Prob (F-statistic):           0.000571\n",
            "Time:                        02:09:51   Log-Likelihood:                -16.416\n",
            "No. Observations:                   8   AIC:                             38.83\n",
            "Df Residuals:                       5   BIC:                             39.07\n",
            "Df Model:                           2                                         \n",
            "Covariance Type:            nonrobust                                         \n",
            "==============================================================================\n",
            "                 coef    std err          t      P>|t|      [0.025      0.975]\n",
            "------------------------------------------------------------------------------\n",
            "Intercept     30.8750      0.842     36.658      0.000      28.710      33.040\n",
            "Harina        10.7500      1.191      9.025      0.000       7.688      13.812\n",
            "Leche          4.2500      1.191      3.568      0.016       1.188       7.312\n",
            "==============================================================================\n",
            "Omnibus:                        2.106   Durbin-Watson:                   1.850\n",
            "Prob(Omnibus):                  0.349   Jarque-Bera (JB):                1.245\n",
            "Skew:                           0.868   Prob(JB):                        0.537\n",
            "Kurtosis:                       2.153   Cond. No.                         1.41\n",
            "==============================================================================\n",
            "\n",
            "Notes:\n",
            "[1] Standard Errors assume that the covariance matrix of the errors is correctly specified.\n"
          ]
        },
        {
          "output_type": "stream",
          "name": "stderr",
          "text": [
            "/usr/local/lib/python3.10/dist-packages/scipy/stats/_stats_py.py:1736: UserWarning: kurtosistest only valid for n>=20 ... continuing anyway, n=8\n",
            "  warnings.warn(\"kurtosistest only valid for n>=20 ... continuing \"\n"
          ]
        }
      ],
      "source": [
        "print(modelo_adjustado_2.summary())"
      ]
    },
    {
      "cell_type": "markdown",
      "metadata": {
        "id": "PXysjHS1oNeg"
      },
      "source": [
        "<hr>"
      ]
    },
    {
      "cell_type": "markdown",
      "metadata": {
        "id": "kQZn1PmooNeg"
      },
      "source": [
        "# <font color = 'purple'> Diagrama de Pareto estandarizado del nuevo modelo    </font>\n",
        "\n",
        "\n",
        "<p style='margin: 30px 30px;'>\n",
        "    \n",
        "<hr style = 'border: 1px solid purple;'>\n"
      ]
    },
    {
      "cell_type": "code",
      "execution_count": 51,
      "metadata": {
        "id": "7IYScpeGoNeh"
      },
      "outputs": [],
      "source": [
        "t_valores = modelo_adjustado_2.tvalues"
      ]
    },
    {
      "cell_type": "code",
      "execution_count": 52,
      "metadata": {
        "id": "h7PtJfFZoNeh",
        "colab": {
          "base_uri": "https://localhost:8080/"
        },
        "outputId": "146f8714-5ca7-4c79-a1ec-5702a40d2099"
      },
      "outputs": [
        {
          "output_type": "execute_result",
          "data": {
            "text/plain": [
              "Intercept    36.658022\n",
              "Harina        9.025173\n",
              "Leche         3.568092\n",
              "dtype: float64"
            ]
          },
          "metadata": {},
          "execution_count": 52
        }
      ],
      "source": [
        "t_valores"
      ]
    },
    {
      "cell_type": "code",
      "execution_count": 53,
      "metadata": {
        "id": "dOtGVDotoNeh"
      },
      "outputs": [],
      "source": [
        "nombre = t_valores.index.tolist()"
      ]
    },
    {
      "cell_type": "code",
      "execution_count": 54,
      "metadata": {
        "id": "J6pmYBR4oNeh",
        "colab": {
          "base_uri": "https://localhost:8080/"
        },
        "outputId": "6d1c9ac5-8e6f-4ed0-e27a-ecea8eff93e6"
      },
      "outputs": [
        {
          "output_type": "execute_result",
          "data": {
            "text/plain": [
              "['Intercept', 'Harina', 'Leche']"
            ]
          },
          "metadata": {},
          "execution_count": 54
        }
      ],
      "source": [
        "nombre"
      ]
    },
    {
      "cell_type": "markdown",
      "metadata": {
        "id": "C6bzwMcXoNeh"
      },
      "source": [
        "### ."
      ]
    },
    {
      "cell_type": "code",
      "execution_count": 55,
      "metadata": {
        "id": "JfoTQqL_oNeh"
      },
      "outputs": [],
      "source": [
        "distribucion = stats.t(df = 5)"
      ]
    },
    {
      "cell_type": "code",
      "execution_count": 56,
      "metadata": {
        "id": "xkS6GTgXoNeh",
        "colab": {
          "base_uri": "https://localhost:8080/"
        },
        "outputId": "6a9f642e-09da-42c4-eecd-c1bae7b4d78b"
      },
      "outputs": [
        {
          "output_type": "execute_result",
          "data": {
            "text/plain": [
              "2.5705818366147395"
            ]
          },
          "metadata": {},
          "execution_count": 56
        }
      ],
      "source": [
        "distribucion.ppf(q=1 - 0.025)"
      ]
    },
    {
      "cell_type": "code",
      "execution_count": 58,
      "metadata": {
        "id": "SSQj58-XoNeh",
        "colab": {
          "base_uri": "https://localhost:8080/"
        },
        "outputId": "f37985ed-09ea-41d2-9af6-e390139d399d"
      },
      "outputs": [
        {
          "output_type": "execute_result",
          "data": {
            "text/plain": [
              "[2.5705818366147395, 2.5705818366147395, 2.5705818366147395]"
            ]
          },
          "metadata": {},
          "execution_count": 58
        }
      ],
      "source": [
        "limite = [distribucion.ppf(q=1 - 0.025)]*len(nombre)\n",
        "limite"
      ]
    },
    {
      "cell_type": "markdown",
      "metadata": {
        "id": "bJLL3__roNeh"
      },
      "source": [
        "### Plotando el gráfico"
      ]
    },
    {
      "cell_type": "code",
      "execution_count": 59,
      "metadata": {
        "id": "eXPVai6joNeh",
        "colab": {
          "base_uri": "https://localhost:8080/",
          "height": 588
        },
        "outputId": "977e4b10-37f0-43dc-9494-62644ad4f033"
      },
      "outputs": [
        {
          "output_type": "execute_result",
          "data": {
            "text/plain": [
              "[<matplotlib.lines.Line2D at 0x7f52130ea9b0>]"
            ]
          },
          "metadata": {},
          "execution_count": 59
        },
        {
          "output_type": "display_data",
          "data": {
            "text/plain": [
              "<Figure size 1500x600 with 1 Axes>"
            ],
            "image/png": "[encoded data removed]"
          },
          "metadata": {}
        }
      ],
      "source": [
        "\n",
        "pareto = sns.barplot(x=t_valores, y=nombre)\n",
        "pareto.figure.set_size_inches(15,6)\n",
        "pareto.tick_params(labelsize=20)\n",
        "pareto.set_xlabel('t_valores', fontsize=20)\n",
        "pareto.plot(limite, nombre, 'r')"
      ]
    },
    {
      "cell_type": "markdown",
      "metadata": {
        "id": "jI_urR4loNeh"
      },
      "source": [
        "<font color='red' style='font-size: 30px;'> Predichos por observados  </font>\n",
        "<hr style='border: 2px solid red;'>"
      ]
    },
    {
      "cell_type": "code",
      "execution_count": 60,
      "metadata": {
        "id": "NbimX1-coNeh"
      },
      "outputs": [],
      "source": [
        "observados = experimento['Cantidades']"
      ]
    },
    {
      "cell_type": "code",
      "execution_count": 61,
      "metadata": {
        "id": "JifkOF0GoNeh",
        "colab": {
          "base_uri": "https://localhost:8080/"
        },
        "outputId": "1296f619-28b2-4c4e-a6dd-502a92a03276"
      },
      "outputs": [
        {
          "output_type": "execute_result",
          "data": {
            "text/plain": [
              "0    19\n",
              "1    37\n",
              "2    24\n",
              "3    49\n",
              "4    29\n",
              "5    30\n",
              "6    29\n",
              "7    30\n",
              "Name: Cantidades, dtype: int64"
            ]
          },
          "metadata": {},
          "execution_count": 61
        }
      ],
      "source": [
        "observados"
      ]
    },
    {
      "cell_type": "markdown",
      "metadata": {
        "id": "al-FU1rvoNei"
      },
      "source": [
        "### ."
      ]
    },
    {
      "cell_type": "code",
      "execution_count": 62,
      "metadata": {
        "id": "hRlzgsRZoNei"
      },
      "outputs": [],
      "source": [
        "predichos = modelo_adjustado_2.predict()"
      ]
    },
    {
      "cell_type": "code",
      "execution_count": 63,
      "metadata": {
        "id": "aVFmKff-oNei",
        "colab": {
          "base_uri": "https://localhost:8080/"
        },
        "outputId": "3db4d811-9aab-4121-e730-d7523029ccb5"
      },
      "outputs": [
        {
          "output_type": "execute_result",
          "data": {
            "text/plain": [
              "array([15.875, 37.375, 24.375, 45.875, 30.875, 30.875, 30.875, 30.875])"
            ]
          },
          "metadata": {},
          "execution_count": 63
        }
      ],
      "source": [
        "predichos"
      ]
    },
    {
      "cell_type": "markdown",
      "metadata": {
        "id": "EFLRZ69noNei"
      },
      "source": [
        "### ."
      ]
    },
    {
      "cell_type": "code",
      "execution_count": 64,
      "metadata": {
        "id": "9IvMOweEoNei"
      },
      "outputs": [],
      "source": [
        "import matplotlib.pyplot as plt"
      ]
    },
    {
      "cell_type": "code",
      "execution_count": 66,
      "metadata": {
        "id": "ykYwfe-IoNei",
        "colab": {
          "base_uri": "https://localhost:8080/",
          "height": 488
        },
        "outputId": "f52ef3a1-95c7-454c-c24d-2c473d027cfc"
      },
      "outputs": [
        {
          "output_type": "execute_result",
          "data": {
            "text/plain": [
              "<matplotlib.collections.PathCollection at 0x7f5212c70700>"
            ]
          },
          "metadata": {},
          "execution_count": 66
        },
        {
          "output_type": "display_data",
          "data": {
            "text/plain": [
              "<Figure size 1000x500 with 1 Axes>"
            ],
            "image/png": "[encoded data removed]"
          },
          "metadata": {}
        }
      ],
      "source": [
        "\n",
        "plt.figure(figsize=(10,5))\n",
        "plt.xlabel('Predichos', fontsize=16)\n",
        "plt.ylabel('Observados', fontsize=16)\n",
        "\n",
        "\n",
        "#linea de guia\n",
        "x = np.linspace(start=15, stop=50,num=10)\n",
        "y = np.linspace(start=15, stop=50,num=10)\n",
        "\n",
        "plt.plot(x,y,'r')\n",
        "#comparaciones\n",
        "\n",
        "plt.scatter(predichos, observados)"
      ]
    },
    {
      "cell_type": "markdown",
      "metadata": {
        "id": "bWqUoIT7oNei"
      },
      "source": [
        "<hr>"
      ]
    },
    {
      "cell_type": "code",
      "execution_count": 67,
      "metadata": {
        "id": "6wQHveJioNei",
        "colab": {
          "base_uri": "https://localhost:8080/"
        },
        "outputId": "53254707-0a4e-4b76-bd9a-53e1cd197ddb"
      },
      "outputs": [
        {
          "output_type": "stream",
          "name": "stdout",
          "text": [
            "                            OLS Regression Results                            \n",
            "==============================================================================\n",
            "Dep. Variable:             Cantidades   R-squared:                       0.950\n",
            "Model:                            OLS   Adj. R-squared:                  0.929\n",
            "Method:                 Least Squares   F-statistic:                     47.09\n",
            "Date:                Sun, 09 Jul 2023   Prob (F-statistic):           0.000571\n",
            "Time:                        02:30:02   Log-Likelihood:                -16.416\n",
            "No. Observations:                   8   AIC:                             38.83\n",
            "Df Residuals:                       5   BIC:                             39.07\n",
            "Df Model:                           2                                         \n",
            "Covariance Type:            nonrobust                                         \n",
            "==============================================================================\n",
            "                 coef    std err          t      P>|t|      [0.025      0.975]\n",
            "------------------------------------------------------------------------------\n",
            "Intercept     30.8750      0.842     36.658      0.000      28.710      33.040\n",
            "Harina        10.7500      1.191      9.025      0.000       7.688      13.812\n",
            "Leche          4.2500      1.191      3.568      0.016       1.188       7.312\n",
            "==============================================================================\n",
            "Omnibus:                        2.106   Durbin-Watson:                   1.850\n",
            "Prob(Omnibus):                  0.349   Jarque-Bera (JB):                1.245\n",
            "Skew:                           0.868   Prob(JB):                        0.537\n",
            "Kurtosis:                       2.153   Cond. No.                         1.41\n",
            "==============================================================================\n",
            "\n",
            "Notes:\n",
            "[1] Standard Errors assume that the covariance matrix of the errors is correctly specified.\n"
          ]
        },
        {
          "output_type": "stream",
          "name": "stderr",
          "text": [
            "/usr/local/lib/python3.10/dist-packages/scipy/stats/_stats_py.py:1736: UserWarning: kurtosistest only valid for n>=20 ... continuing anyway, n=8\n",
            "  warnings.warn(\"kurtosistest only valid for n>=20 ... continuing \"\n"
          ]
        }
      ],
      "source": [
        "print(modelo_adjustado_2.summary()) #R-squared que tan bien esta ajustado el modelo"
      ]
    },
    {
      "cell_type": "markdown",
      "metadata": {
        "id": "I_8MExa4oNei"
      },
      "source": [
        "### ."
      ]
    },
    {
      "cell_type": "markdown",
      "metadata": {
        "id": "pDugfwq0oNei"
      },
      "source": [
        "# <font color = 'purple'> Explorando el modelo   </font>\n",
        "\n",
        "\n",
        "<p style='margin: 30px 30px;'>\n",
        "    \n",
        "<hr style = 'border: 1px solid purple;'>"
      ]
    },
    {
      "cell_type": "code",
      "execution_count": 68,
      "metadata": {
        "id": "RQrQ4XzQoNei"
      },
      "outputs": [],
      "source": [
        "parametros = modelo_adjustado_2.params"
      ]
    },
    {
      "cell_type": "code",
      "execution_count": 69,
      "metadata": {
        "id": "ovOHLoKpoNei",
        "colab": {
          "base_uri": "https://localhost:8080/"
        },
        "outputId": "54039bc8-9fd9-440d-8fb4-1be7e3d7d32a"
      },
      "outputs": [
        {
          "output_type": "execute_result",
          "data": {
            "text/plain": [
              "Intercept    30.875\n",
              "Harina       10.750\n",
              "Leche         4.250\n",
              "dtype: float64"
            ]
          },
          "metadata": {},
          "execution_count": 69
        }
      ],
      "source": [
        "parametros"
      ]
    },
    {
      "cell_type": "markdown",
      "metadata": {
        "id": "mgQr8KbioNei"
      },
      "source": [
        "### ."
      ]
    },
    {
      "cell_type": "markdown",
      "metadata": {
        "id": "-y1UhPuQoNei"
      },
      "source": [
        "### Definiendo la función"
      ]
    },
    {
      "cell_type": "code",
      "execution_count": 70,
      "metadata": {
        "id": "NuVT2n0aoNej"
      },
      "outputs": [],
      "source": [
        "def modelo_receta(x_h,x_l):\n",
        "\n",
        "  #limites\n",
        "  limite_normalizado = [-1,1]\n",
        "  limite_harina = [0.5, 1.5]\n",
        "  limite_leche = [0.2, 0.7]\n",
        "\n",
        "  #convertir\n",
        "  x_h_convertido =np.interp(x_h, limite_harina,limite_normalizado)\n",
        "  x_l_convertido =np.interp(x_l, limite_leche,limite_normalizado)\n",
        "  cantidades = parametros['Intercept'] + parametros['Harina']*x_h_convertido + parametros['Leche']*x_l_convertido\n",
        "  return round(cantidades)\n"
      ]
    },
    {
      "cell_type": "code",
      "execution_count": 72,
      "metadata": {
        "id": "kBqepZoVoNej",
        "colab": {
          "base_uri": "https://localhost:8080/"
        },
        "outputId": "8ee22b4e-fe1d-4b4e-f308-b4a9996990f4"
      },
      "outputs": [
        {
          "output_type": "execute_result",
          "data": {
            "text/plain": [
              "27"
            ]
          },
          "metadata": {},
          "execution_count": 72
        }
      ],
      "source": [
        "modelo_receta(0.8, 0.5)"
      ]
    },
    {
      "cell_type": "markdown",
      "metadata": {
        "id": "sH1iozKVoNej"
      },
      "source": [
        "\n",
        "<p style='margin: 150px 150px;'>\n",
        "\n",
        "\n",
        "<hr>\n",
        "\n",
        "<img width='700px' src='figuras/Figura_22.png'>\n",
        "\n",
        "\n",
        "<hr>"
      ]
    },
    {
      "cell_type": "markdown",
      "metadata": {
        "id": "3dDTo0pEoNej"
      },
      "source": [
        "# <font color = 'purple'> Mapa de colores   </font>\n",
        "\n",
        "\n",
        "<p style='margin: 30px 30px;'>\n",
        "    \n",
        "<hr style = 'border: 1px solid purple;'>"
      ]
    },
    {
      "cell_type": "code",
      "execution_count": 73,
      "metadata": {
        "id": "eGyJpxLioNej",
        "colab": {
          "base_uri": "https://localhost:8080/"
        },
        "outputId": "1e23e991-b47e-4fe7-a07f-39b03d5b79d1"
      },
      "outputs": [
        {
          "output_type": "execute_result",
          "data": {
            "text/plain": [
              "array([0.5       , 0.61111111, 0.72222222, 0.83333333, 0.94444444,\n",
              "       1.05555556, 1.16666667, 1.27777778, 1.38888889, 1.5       ])"
            ]
          },
          "metadata": {},
          "execution_count": 73
        }
      ],
      "source": [
        "x_harina = np.linspace(start=0.5, stop=1.5, num=10)\n",
        "x_harina"
      ]
    },
    {
      "cell_type": "code",
      "execution_count": 74,
      "metadata": {
        "id": "yCaHRUzxoNej",
        "colab": {
          "base_uri": "https://localhost:8080/"
        },
        "outputId": "32bbe22b-8fc2-410e-a91f-20c66161962d"
      },
      "outputs": [
        {
          "output_type": "execute_result",
          "data": {
            "text/plain": [
              "array([0.2       , 0.25555556, 0.31111111, 0.36666667, 0.42222222,\n",
              "       0.47777778, 0.53333333, 0.58888889, 0.64444444, 0.7       ])"
            ]
          },
          "metadata": {},
          "execution_count": 74
        }
      ],
      "source": [
        "x_leche = np.linspace(start=0.2, stop=0.7, num=10)\n",
        "x_leche"
      ]
    },
    {
      "cell_type": "markdown",
      "metadata": {
        "id": "fFo83ya9oNej"
      },
      "source": [
        "### ."
      ]
    },
    {
      "cell_type": "code",
      "execution_count": 77,
      "metadata": {
        "id": "pjgupjWuoNej",
        "colab": {
          "base_uri": "https://localhost:8080/"
        },
        "outputId": "af549b03-3e6f-4dcb-9673-f9e85f7462ba"
      },
      "outputs": [
        {
          "output_type": "execute_result",
          "data": {
            "text/plain": [
              "[[16, 17, 18, 19, 20, 21, 22, 22, 23, 24],\n",
              " [18, 19, 20, 21, 22, 23, 24, 25, 26, 27],\n",
              " [21, 22, 23, 23, 24, 25, 26, 27, 28, 29],\n",
              " [23, 24, 25, 26, 27, 28, 29, 30, 31, 32],\n",
              " [25, 26, 27, 28, 29, 30, 31, 32, 33, 34],\n",
              " [28, 29, 30, 31, 32, 33, 33, 34, 35, 36],\n",
              " [30, 31, 32, 33, 34, 35, 36, 37, 38, 39],\n",
              " [33, 34, 34, 35, 36, 37, 38, 39, 40, 41],\n",
              " [35, 36, 37, 38, 39, 40, 41, 42, 43, 43],\n",
              " [37, 38, 39, 40, 41, 42, 43, 44, 45, 46]]"
            ]
          },
          "metadata": {},
          "execution_count": 77
        }
      ],
      "source": [
        "puntos = []\n",
        "for cont1 in x_harina:\n",
        "  temp=[]\n",
        "  for cont2 in x_leche:\n",
        "    temp.append(modelo_receta(cont1,cont2))\n",
        "  puntos.append(temp)\n",
        "\n",
        "puntos"
      ]
    },
    {
      "cell_type": "code",
      "execution_count": null,
      "metadata": {
        "id": "O0n5Y-XIoNej"
      },
      "outputs": [],
      "source": []
    },
    {
      "cell_type": "markdown",
      "metadata": {
        "id": "BzAT2eDroNej"
      },
      "source": [
        "### ."
      ]
    },
    {
      "cell_type": "markdown",
      "metadata": {
        "id": "VW-WaEt1oNej"
      },
      "source": [
        "### Construyendo la superficie de respuesta"
      ]
    },
    {
      "cell_type": "code",
      "execution_count": 78,
      "metadata": {
        "id": "4eabTc0moNej"
      },
      "outputs": [],
      "source": [
        "import matplotlib.cm as cm"
      ]
    },
    {
      "cell_type": "markdown",
      "metadata": {
        "id": "tNJFrhOPoNej"
      },
      "source": [
        "https://matplotlib.org/users/colormaps.html"
      ]
    },
    {
      "cell_type": "code",
      "execution_count": 79,
      "metadata": {
        "id": "W9KEHMleoNek",
        "colab": {
          "base_uri": "https://localhost:8080/",
          "height": 553
        },
        "outputId": "8a14bd6f-37ce-4bfb-b88f-eb7099f2c52e"
      },
      "outputs": [
        {
          "output_type": "display_data",
          "data": {
            "text/plain": [
              "<Figure size 1600x600 with 2 Axes>"
            ],
            "image/png": "[encoded data removed]"
          },
          "metadata": {}
        }
      ],
      "source": [
        "plt.figure(figsize=(16,6))\n",
        "plt.xlabel('Harina(kg)', fontsize=16)\n",
        "plt.ylabel('Leche(ml)', fontsize=16)\n",
        "\n",
        "\n",
        "#mapa de colores\n",
        "mapa_color =plt.imshow(puntos, origin='lower', cmap=cm.rainbow,interpolation='quadric', extent=(0.5,1.5,0.2,0.7))\n",
        "#barra de color\n",
        "plt.colorbar().set_label('Cantidades', fontsize=16)"
      ]
    },
    {
      "cell_type": "code",
      "execution_count": null,
      "metadata": {
        "id": "7bN4GJVroNek"
      },
      "outputs": [],
      "source": []
    }
  ],
  "metadata": {
    "kernelspec": {
      "display_name": "Python 3",
      "language": "python",
      "name": "python3"
    },
    "language_info": {
      "codemirror_mode": {
        "name": "ipython",
        "version": 3
      },
      "file_extension": ".py",
      "mimetype": "text/x-python",
      "name": "python",
      "nbconvert_exporter": "python",
      "pygments_lexer": "ipython3",
      "version": "3.7.3"
    },
    "colab": {
      "provenance": [],
      "include_colab_link": true
    }
  },
  "nbformat": 4,
  "nbformat_minor": 0
}